{
 "cells": [
  {
   "cell_type": "markdown",
   "id": "9acdfeb6-6dd6-4fe3-8b11-e58198610133",
   "metadata": {},
   "source": [
    "<h1>ACTIVITY 2 : UK ACCIDENTS DATA ANALYTICS PROJECT</h1>\n",
    "<hr>\n",
    "<h3>Analyst : Mark John Well D. De Castro</h3>"
   ]
  },
  {
   "cell_type": "code",
   "execution_count": 1,
   "id": "6fc2820a-cf91-4a75-8362-97caef642a74",
   "metadata": {},
   "outputs": [
    {
     "name": "stdout",
     "output_type": "stream",
     "text": [
      "Defaulting to user installation because normal site-packages is not writeable\n",
      "Requirement already satisfied: numpy in c:\\users\\lab5-studentpc09\\appdata\\local\\packages\\pythonsoftwarefoundation.python.3.13_qbz5n2kfra8p0\\localcache\\local-packages\\python313\\site-packages (2.2.2)\n",
      "Note: you may need to restart the kernel to use updated packages.\n"
     ]
    }
   ],
   "source": [
    "pip install numpy"
   ]
  },
  {
   "cell_type": "code",
   "execution_count": 2,
   "id": "12655bdc-9989-4fc4-a7aa-6f34c9bd29e8",
   "metadata": {},
   "outputs": [
    {
     "name": "stdout",
     "output_type": "stream",
     "text": [
      "Defaulting to user installation because normal site-packages is not writeable\n",
      "Requirement already satisfied: pandas in c:\\users\\lab5-studentpc09\\appdata\\local\\packages\\pythonsoftwarefoundation.python.3.13_qbz5n2kfra8p0\\localcache\\local-packages\\python313\\site-packages (2.2.3)\n",
      "Requirement already satisfied: numpy>=1.26.0 in c:\\users\\lab5-studentpc09\\appdata\\local\\packages\\pythonsoftwarefoundation.python.3.13_qbz5n2kfra8p0\\localcache\\local-packages\\python313\\site-packages (from pandas) (2.2.2)\n",
      "Requirement already satisfied: python-dateutil>=2.8.2 in c:\\users\\lab5-studentpc09\\appdata\\local\\packages\\pythonsoftwarefoundation.python.3.13_qbz5n2kfra8p0\\localcache\\local-packages\\python313\\site-packages (from pandas) (2.9.0.post0)\n",
      "Requirement already satisfied: pytz>=2020.1 in c:\\users\\lab5-studentpc09\\appdata\\local\\packages\\pythonsoftwarefoundation.python.3.13_qbz5n2kfra8p0\\localcache\\local-packages\\python313\\site-packages (from pandas) (2024.2)\n",
      "Requirement already satisfied: tzdata>=2022.7 in c:\\users\\lab5-studentpc09\\appdata\\local\\packages\\pythonsoftwarefoundation.python.3.13_qbz5n2kfra8p0\\localcache\\local-packages\\python313\\site-packages (from pandas) (2024.2)\n",
      "Requirement already satisfied: six>=1.5 in c:\\users\\lab5-studentpc09\\appdata\\local\\packages\\pythonsoftwarefoundation.python.3.13_qbz5n2kfra8p0\\localcache\\local-packages\\python313\\site-packages (from python-dateutil>=2.8.2->pandas) (1.17.0)\n",
      "Note: you may need to restart the kernel to use updated packages.\n"
     ]
    }
   ],
   "source": [
    "pip install pandas"
   ]
  },
  {
   "cell_type": "code",
   "execution_count": 3,
   "id": "d319fdd9-e189-4a52-80ac-847958df94a1",
   "metadata": {},
   "outputs": [
    {
     "name": "stdout",
     "output_type": "stream",
     "text": [
      "Defaulting to user installation because normal site-packages is not writeable\n",
      "Requirement already satisfied: matplotlib in c:\\users\\lab5-studentpc09\\appdata\\local\\packages\\pythonsoftwarefoundation.python.3.13_qbz5n2kfra8p0\\localcache\\local-packages\\python313\\site-packages (3.10.0)\n",
      "Requirement already satisfied: contourpy>=1.0.1 in c:\\users\\lab5-studentpc09\\appdata\\local\\packages\\pythonsoftwarefoundation.python.3.13_qbz5n2kfra8p0\\localcache\\local-packages\\python313\\site-packages (from matplotlib) (1.3.1)\n",
      "Requirement already satisfied: cycler>=0.10 in c:\\users\\lab5-studentpc09\\appdata\\local\\packages\\pythonsoftwarefoundation.python.3.13_qbz5n2kfra8p0\\localcache\\local-packages\\python313\\site-packages (from matplotlib) (0.12.1)\n",
      "Requirement already satisfied: fonttools>=4.22.0 in c:\\users\\lab5-studentpc09\\appdata\\local\\packages\\pythonsoftwarefoundation.python.3.13_qbz5n2kfra8p0\\localcache\\local-packages\\python313\\site-packages (from matplotlib) (4.55.3)\n",
      "Requirement already satisfied: kiwisolver>=1.3.1 in c:\\users\\lab5-studentpc09\\appdata\\local\\packages\\pythonsoftwarefoundation.python.3.13_qbz5n2kfra8p0\\localcache\\local-packages\\python313\\site-packages (from matplotlib) (1.4.8)\n",
      "Requirement already satisfied: numpy>=1.23 in c:\\users\\lab5-studentpc09\\appdata\\local\\packages\\pythonsoftwarefoundation.python.3.13_qbz5n2kfra8p0\\localcache\\local-packages\\python313\\site-packages (from matplotlib) (2.2.2)\n",
      "Requirement already satisfied: packaging>=20.0 in c:\\users\\lab5-studentpc09\\appdata\\local\\packages\\pythonsoftwarefoundation.python.3.13_qbz5n2kfra8p0\\localcache\\local-packages\\python313\\site-packages (from matplotlib) (24.2)\n",
      "Requirement already satisfied: pillow>=8 in c:\\users\\lab5-studentpc09\\appdata\\local\\packages\\pythonsoftwarefoundation.python.3.13_qbz5n2kfra8p0\\localcache\\local-packages\\python313\\site-packages (from matplotlib) (11.1.0)\n",
      "Requirement already satisfied: pyparsing>=2.3.1 in c:\\users\\lab5-studentpc09\\appdata\\local\\packages\\pythonsoftwarefoundation.python.3.13_qbz5n2kfra8p0\\localcache\\local-packages\\python313\\site-packages (from matplotlib) (3.2.1)\n",
      "Requirement already satisfied: python-dateutil>=2.7 in c:\\users\\lab5-studentpc09\\appdata\\local\\packages\\pythonsoftwarefoundation.python.3.13_qbz5n2kfra8p0\\localcache\\local-packages\\python313\\site-packages (from matplotlib) (2.9.0.post0)\n",
      "Requirement already satisfied: six>=1.5 in c:\\users\\lab5-studentpc09\\appdata\\local\\packages\\pythonsoftwarefoundation.python.3.13_qbz5n2kfra8p0\\localcache\\local-packages\\python313\\site-packages (from python-dateutil>=2.7->matplotlib) (1.17.0)\n",
      "Note: you may need to restart the kernel to use updated packages.\n"
     ]
    }
   ],
   "source": [
    "pip install matplotlib"
   ]
  },
  {
   "cell_type": "code",
   "execution_count": 4,
   "id": "5abb909a-2a68-4371-9230-c6bdc7b1cc3c",
   "metadata": {},
   "outputs": [],
   "source": [
    "import numpy as np\n",
    "import pandas as pd\n",
    "import warnings\n",
    "warnings.filterwarnings('ignore')\n",
    "from scipy.stats import f_oneway\n",
    "import matplotlib as plt"
   ]
  },
  {
   "cell_type": "markdown",
   "id": "e727f82e-443f-4497-bbfb-595b668c56b7",
   "metadata": {},
   "source": [
    "<hr>\n",
    "<h1>Importing the Dataset</h1>"
   ]
  },
  {
   "cell_type": "code",
   "execution_count": 5,
   "id": "f813f4a1-784f-4c36-bea4-0f1a9ddaaf5f",
   "metadata": {},
   "outputs": [],
   "source": [
    "data = pd.read_csv('datasets\\\\accident_data.csv')"
   ]
  },
  {
   "cell_type": "markdown",
   "id": "0b13119d-d955-4062-8dd9-2fbdeb82a5de",
   "metadata": {},
   "source": [
    "<hr>\n",
    "<h1>Checking Dataset Information</h1>"
   ]
  },
  {
   "cell_type": "code",
   "execution_count": 6,
   "id": "edd6ffe4-4a2a-4f92-9379-d55bb05ce082",
   "metadata": {},
   "outputs": [
    {
     "data": {
      "text/html": [
       "<div>\n",
       "<style scoped>\n",
       "    .dataframe tbody tr th:only-of-type {\n",
       "        vertical-align: middle;\n",
       "    }\n",
       "\n",
       "    .dataframe tbody tr th {\n",
       "        vertical-align: top;\n",
       "    }\n",
       "\n",
       "    .dataframe thead th {\n",
       "        text-align: right;\n",
       "    }\n",
       "</style>\n",
       "<table border=\"1\" class=\"dataframe\">\n",
       "  <thead>\n",
       "    <tr style=\"text-align: right;\">\n",
       "      <th></th>\n",
       "      <th>Index</th>\n",
       "      <th>Accident_Severity</th>\n",
       "      <th>Accident Date</th>\n",
       "      <th>Latitude</th>\n",
       "      <th>Light_Conditions</th>\n",
       "      <th>District Area</th>\n",
       "      <th>Longitude</th>\n",
       "      <th>Number_of_Casualties</th>\n",
       "      <th>Number_of_Vehicles</th>\n",
       "      <th>Road_Surface_Conditions</th>\n",
       "      <th>Road_Type</th>\n",
       "      <th>Urban_or_Rural_Area</th>\n",
       "      <th>Weather_Conditions</th>\n",
       "      <th>Vehicle_Type</th>\n",
       "    </tr>\n",
       "  </thead>\n",
       "  <tbody>\n",
       "    <tr>\n",
       "      <th>0</th>\n",
       "      <td>200701BS64157</td>\n",
       "      <td>Serious</td>\n",
       "      <td>05/06/2019</td>\n",
       "      <td>51.506187</td>\n",
       "      <td>Darkness - lights lit</td>\n",
       "      <td>Kensington and Chelsea</td>\n",
       "      <td>-0.209082</td>\n",
       "      <td>1</td>\n",
       "      <td>2</td>\n",
       "      <td>Dry</td>\n",
       "      <td>Single carriageway</td>\n",
       "      <td>Urban</td>\n",
       "      <td>Fine no high winds</td>\n",
       "      <td>Car</td>\n",
       "    </tr>\n",
       "    <tr>\n",
       "      <th>1</th>\n",
       "      <td>200701BS65737</td>\n",
       "      <td>Serious</td>\n",
       "      <td>02/07/2019</td>\n",
       "      <td>51.495029</td>\n",
       "      <td>Daylight</td>\n",
       "      <td>Kensington and Chelsea</td>\n",
       "      <td>-0.173647</td>\n",
       "      <td>1</td>\n",
       "      <td>2</td>\n",
       "      <td>Wet or damp</td>\n",
       "      <td>Single carriageway</td>\n",
       "      <td>Urban</td>\n",
       "      <td>Raining no high winds</td>\n",
       "      <td>Car</td>\n",
       "    </tr>\n",
       "    <tr>\n",
       "      <th>2</th>\n",
       "      <td>200701BS66127</td>\n",
       "      <td>Serious</td>\n",
       "      <td>26/08/2019</td>\n",
       "      <td>51.517715</td>\n",
       "      <td>Darkness - lighting unknown</td>\n",
       "      <td>Kensington and Chelsea</td>\n",
       "      <td>-0.210215</td>\n",
       "      <td>1</td>\n",
       "      <td>3</td>\n",
       "      <td>Dry</td>\n",
       "      <td>NaN</td>\n",
       "      <td>Urban</td>\n",
       "      <td>NaN</td>\n",
       "      <td>Taxi/Private hire car</td>\n",
       "    </tr>\n",
       "    <tr>\n",
       "      <th>3</th>\n",
       "      <td>200701BS66128</td>\n",
       "      <td>Serious</td>\n",
       "      <td>16/08/2019</td>\n",
       "      <td>51.495478</td>\n",
       "      <td>Daylight</td>\n",
       "      <td>Kensington and Chelsea</td>\n",
       "      <td>-0.202731</td>\n",
       "      <td>1</td>\n",
       "      <td>4</td>\n",
       "      <td>Dry</td>\n",
       "      <td>Single carriageway</td>\n",
       "      <td>Urban</td>\n",
       "      <td>Fine no high winds</td>\n",
       "      <td>Bus or coach (17 or more pass seats)</td>\n",
       "    </tr>\n",
       "    <tr>\n",
       "      <th>4</th>\n",
       "      <td>200701BS66837</td>\n",
       "      <td>Slight</td>\n",
       "      <td>03/09/2019</td>\n",
       "      <td>51.488576</td>\n",
       "      <td>Darkness - lights lit</td>\n",
       "      <td>Kensington and Chelsea</td>\n",
       "      <td>-0.192487</td>\n",
       "      <td>1</td>\n",
       "      <td>2</td>\n",
       "      <td>Dry</td>\n",
       "      <td>NaN</td>\n",
       "      <td>Urban</td>\n",
       "      <td>NaN</td>\n",
       "      <td>Other vehicle</td>\n",
       "    </tr>\n",
       "    <tr>\n",
       "      <th>...</th>\n",
       "      <td>...</td>\n",
       "      <td>...</td>\n",
       "      <td>...</td>\n",
       "      <td>...</td>\n",
       "      <td>...</td>\n",
       "      <td>...</td>\n",
       "      <td>...</td>\n",
       "      <td>...</td>\n",
       "      <td>...</td>\n",
       "      <td>...</td>\n",
       "      <td>...</td>\n",
       "      <td>...</td>\n",
       "      <td>...</td>\n",
       "      <td>...</td>\n",
       "    </tr>\n",
       "    <tr>\n",
       "      <th>660674</th>\n",
       "      <td>201091NM01760</td>\n",
       "      <td>Slight</td>\n",
       "      <td>18/02/2022</td>\n",
       "      <td>57.374005</td>\n",
       "      <td>Daylight</td>\n",
       "      <td>Highland</td>\n",
       "      <td>-3.467828</td>\n",
       "      <td>2</td>\n",
       "      <td>1</td>\n",
       "      <td>Dry</td>\n",
       "      <td>Single carriageway</td>\n",
       "      <td>Rural</td>\n",
       "      <td>Fine no high winds</td>\n",
       "      <td>Car</td>\n",
       "    </tr>\n",
       "    <tr>\n",
       "      <th>660675</th>\n",
       "      <td>201091NM01881</td>\n",
       "      <td>Slight</td>\n",
       "      <td>21/02/2022</td>\n",
       "      <td>57.232273</td>\n",
       "      <td>Darkness - no lighting</td>\n",
       "      <td>Highland</td>\n",
       "      <td>-3.809281</td>\n",
       "      <td>1</td>\n",
       "      <td>1</td>\n",
       "      <td>Frost or ice</td>\n",
       "      <td>Single carriageway</td>\n",
       "      <td>Rural</td>\n",
       "      <td>Fine no high winds</td>\n",
       "      <td>Car</td>\n",
       "    </tr>\n",
       "    <tr>\n",
       "      <th>660676</th>\n",
       "      <td>201091NM01935</td>\n",
       "      <td>Slight</td>\n",
       "      <td>23/02/2022</td>\n",
       "      <td>57.585044</td>\n",
       "      <td>Daylight</td>\n",
       "      <td>Highland</td>\n",
       "      <td>-3.862727</td>\n",
       "      <td>1</td>\n",
       "      <td>3</td>\n",
       "      <td>Frost or ice</td>\n",
       "      <td>Single carriageway</td>\n",
       "      <td>Rural</td>\n",
       "      <td>Fine no high winds</td>\n",
       "      <td>Car</td>\n",
       "    </tr>\n",
       "    <tr>\n",
       "      <th>660677</th>\n",
       "      <td>201091NM01964</td>\n",
       "      <td>Serious</td>\n",
       "      <td>23/02/2022</td>\n",
       "      <td>57.214898</td>\n",
       "      <td>Darkness - no lighting</td>\n",
       "      <td>Highland</td>\n",
       "      <td>-3.823997</td>\n",
       "      <td>1</td>\n",
       "      <td>2</td>\n",
       "      <td>Wet or damp</td>\n",
       "      <td>Single carriageway</td>\n",
       "      <td>Rural</td>\n",
       "      <td>Fine no high winds</td>\n",
       "      <td>Motorcycle over 500cc</td>\n",
       "    </tr>\n",
       "    <tr>\n",
       "      <th>660678</th>\n",
       "      <td>201091NM02142</td>\n",
       "      <td>Serious</td>\n",
       "      <td>28/02/2022</td>\n",
       "      <td>57.575210</td>\n",
       "      <td>Daylight</td>\n",
       "      <td>Highland</td>\n",
       "      <td>-3.895673</td>\n",
       "      <td>1</td>\n",
       "      <td>1</td>\n",
       "      <td>Wet or damp</td>\n",
       "      <td>Dual carriageway</td>\n",
       "      <td>Rural</td>\n",
       "      <td>Snowing no high winds</td>\n",
       "      <td>Car</td>\n",
       "    </tr>\n",
       "  </tbody>\n",
       "</table>\n",
       "<p>660679 rows × 14 columns</p>\n",
       "</div>"
      ],
      "text/plain": [
       "                Index Accident_Severity Accident Date   Latitude  \\\n",
       "0       200701BS64157           Serious    05/06/2019  51.506187   \n",
       "1       200701BS65737           Serious    02/07/2019  51.495029   \n",
       "2       200701BS66127           Serious    26/08/2019  51.517715   \n",
       "3       200701BS66128           Serious    16/08/2019  51.495478   \n",
       "4       200701BS66837            Slight    03/09/2019  51.488576   \n",
       "...               ...               ...           ...        ...   \n",
       "660674  201091NM01760            Slight    18/02/2022  57.374005   \n",
       "660675  201091NM01881            Slight    21/02/2022  57.232273   \n",
       "660676  201091NM01935            Slight    23/02/2022  57.585044   \n",
       "660677  201091NM01964           Serious    23/02/2022  57.214898   \n",
       "660678  201091NM02142           Serious    28/02/2022  57.575210   \n",
       "\n",
       "                   Light_Conditions           District Area  Longitude  \\\n",
       "0             Darkness - lights lit  Kensington and Chelsea  -0.209082   \n",
       "1                          Daylight  Kensington and Chelsea  -0.173647   \n",
       "2       Darkness - lighting unknown  Kensington and Chelsea  -0.210215   \n",
       "3                          Daylight  Kensington and Chelsea  -0.202731   \n",
       "4             Darkness - lights lit  Kensington and Chelsea  -0.192487   \n",
       "...                             ...                     ...        ...   \n",
       "660674                     Daylight                Highland  -3.467828   \n",
       "660675       Darkness - no lighting                Highland  -3.809281   \n",
       "660676                     Daylight                Highland  -3.862727   \n",
       "660677       Darkness - no lighting                Highland  -3.823997   \n",
       "660678                     Daylight                Highland  -3.895673   \n",
       "\n",
       "        Number_of_Casualties  Number_of_Vehicles Road_Surface_Conditions  \\\n",
       "0                          1                   2                     Dry   \n",
       "1                          1                   2             Wet or damp   \n",
       "2                          1                   3                     Dry   \n",
       "3                          1                   4                     Dry   \n",
       "4                          1                   2                     Dry   \n",
       "...                      ...                 ...                     ...   \n",
       "660674                     2                   1                     Dry   \n",
       "660675                     1                   1            Frost or ice   \n",
       "660676                     1                   3            Frost or ice   \n",
       "660677                     1                   2             Wet or damp   \n",
       "660678                     1                   1             Wet or damp   \n",
       "\n",
       "                 Road_Type Urban_or_Rural_Area     Weather_Conditions  \\\n",
       "0       Single carriageway               Urban     Fine no high winds   \n",
       "1       Single carriageway               Urban  Raining no high winds   \n",
       "2                      NaN               Urban                    NaN   \n",
       "3       Single carriageway               Urban     Fine no high winds   \n",
       "4                      NaN               Urban                    NaN   \n",
       "...                    ...                 ...                    ...   \n",
       "660674  Single carriageway               Rural     Fine no high winds   \n",
       "660675  Single carriageway               Rural     Fine no high winds   \n",
       "660676  Single carriageway               Rural     Fine no high winds   \n",
       "660677  Single carriageway               Rural     Fine no high winds   \n",
       "660678    Dual carriageway               Rural  Snowing no high winds   \n",
       "\n",
       "                                Vehicle_Type  \n",
       "0                                        Car  \n",
       "1                                        Car  \n",
       "2                      Taxi/Private hire car  \n",
       "3       Bus or coach (17 or more pass seats)  \n",
       "4                              Other vehicle  \n",
       "...                                      ...  \n",
       "660674                                   Car  \n",
       "660675                                   Car  \n",
       "660676                                   Car  \n",
       "660677                 Motorcycle over 500cc  \n",
       "660678                                   Car  \n",
       "\n",
       "[660679 rows x 14 columns]"
      ]
     },
     "execution_count": 6,
     "metadata": {},
     "output_type": "execute_result"
    }
   ],
   "source": [
    "data"
   ]
  },
  {
   "cell_type": "code",
   "execution_count": 7,
   "id": "b45fea47-26ca-4058-bddf-316befccf298",
   "metadata": {},
   "outputs": [
    {
     "name": "stdout",
     "output_type": "stream",
     "text": [
      "<class 'pandas.core.frame.DataFrame'>\n",
      "RangeIndex: 660679 entries, 0 to 660678\n",
      "Data columns (total 14 columns):\n",
      " #   Column                   Non-Null Count   Dtype  \n",
      "---  ------                   --------------   -----  \n",
      " 0   Index                    660679 non-null  object \n",
      " 1   Accident_Severity        660679 non-null  object \n",
      " 2   Accident Date            660679 non-null  object \n",
      " 3   Latitude                 660654 non-null  float64\n",
      " 4   Light_Conditions         660679 non-null  object \n",
      " 5   District Area            660679 non-null  object \n",
      " 6   Longitude                660653 non-null  float64\n",
      " 7   Number_of_Casualties     660679 non-null  int64  \n",
      " 8   Number_of_Vehicles       660679 non-null  int64  \n",
      " 9   Road_Surface_Conditions  659953 non-null  object \n",
      " 10  Road_Type                656159 non-null  object \n",
      " 11  Urban_or_Rural_Area      660664 non-null  object \n",
      " 12  Weather_Conditions       646551 non-null  object \n",
      " 13  Vehicle_Type             660679 non-null  object \n",
      "dtypes: float64(2), int64(2), object(10)\n",
      "memory usage: 70.6+ MB\n"
     ]
    }
   ],
   "source": [
    "data.info()"
   ]
  },
  {
   "cell_type": "markdown",
   "id": "f28f9880-394c-4e0c-8404-2dce9b8b1438",
   "metadata": {},
   "source": [
    "<hr>\n",
    "<h1>Adjusting the Data Type of every column</h1>"
   ]
  },
  {
   "cell_type": "code",
   "execution_count": 8,
   "id": "0d4864fe-3d80-4a00-a70a-b16cb6156f81",
   "metadata": {},
   "outputs": [
    {
     "data": {
      "text/plain": [
       "Index                       object\n",
       "Accident_Severity           object\n",
       "Accident Date               object\n",
       "Latitude                   float64\n",
       "Light_Conditions            object\n",
       "District Area               object\n",
       "Longitude                  float64\n",
       "Number_of_Casualties         int64\n",
       "Number_of_Vehicles           int64\n",
       "Road_Surface_Conditions     object\n",
       "Road_Type                   object\n",
       "Urban_or_Rural_Area         object\n",
       "Weather_Conditions          object\n",
       "Vehicle_Type                object\n",
       "dtype: object"
      ]
     },
     "execution_count": 8,
     "metadata": {},
     "output_type": "execute_result"
    }
   ],
   "source": [
    "data.dtypes"
   ]
  },
  {
   "cell_type": "code",
   "execution_count": 9,
   "id": "2a864496-258b-47f0-bed9-1a2c409e0369",
   "metadata": {},
   "outputs": [],
   "source": [
    "data['Accident_Severity'] = data['Accident_Severity'].astype('category')\n",
    "data['Light_Conditions'] = data['Light_Conditions'].astype('category')\n",
    "data['District Area'] = data['District Area'].astype('category')\n",
    "data['Road_Surface_Conditions'] = data['Road_Surface_Conditions'].astype('category')\n",
    "data['Road_Type'] = data['Road_Type'].astype('category')\n",
    "data['Urban_or_Rural_Area'] = data['Urban_or_Rural_Area'].astype('category')\n",
    "data['Weather_Conditions'] = data['Weather_Conditions'].astype('category')\n",
    "data['Vehicle_Type'] = data['Vehicle_Type'].astype('category')\n",
    "data['Accident Date'] = data['Accident Date'].astype('str')\n",
    "data['Accident Date'] = data['Accident Date'].str.replace('/','-')\n",
    "data['Accident Date'] = pd.to_datetime(data['Accident Date'], dayfirst = True, errors = 'coerce')"
   ]
  },
  {
   "cell_type": "markdown",
   "id": "2ab58864-653b-4395-a273-9ba45ea84dcd",
   "metadata": {},
   "source": [
    "<hr>\n",
    "<h1>Checking for null values</h1>"
   ]
  },
  {
   "cell_type": "code",
   "execution_count": 10,
   "id": "2ebdcbae-0d0f-4b51-992b-e0baea94657e",
   "metadata": {},
   "outputs": [
    {
     "data": {
      "text/plain": [
       "Index                          0\n",
       "Accident_Severity              0\n",
       "Accident Date                  0\n",
       "Latitude                      25\n",
       "Light_Conditions               0\n",
       "District Area                  0\n",
       "Longitude                     26\n",
       "Number_of_Casualties           0\n",
       "Number_of_Vehicles             0\n",
       "Road_Surface_Conditions      726\n",
       "Road_Type                   4520\n",
       "Urban_or_Rural_Area           15\n",
       "Weather_Conditions         14128\n",
       "Vehicle_Type                   0\n",
       "dtype: int64"
      ]
     },
     "execution_count": 10,
     "metadata": {},
     "output_type": "execute_result"
    }
   ],
   "source": [
    "data.isnull().sum()"
   ]
  },
  {
   "cell_type": "markdown",
   "id": "c9b613fb-1da5-44da-a6ba-9b0f8d9db124",
   "metadata": {},
   "source": [
    "<hr>\n",
    "<h1>Filling up the Null Values</h1>"
   ]
  },
  {
   "cell_type": "code",
   "execution_count": 11,
   "id": "3ecca2fc-048f-47c7-8b5c-82c26f355eaa",
   "metadata": {},
   "outputs": [],
   "source": [
    "data['Latitude'] = data['Latitude'].fillna(data['Latitude'].mode()[0])\n",
    "data['Longitude'] = data['Longitude'].fillna(data['Longitude'].mode()[0])\n",
    "data['Road_Surface_Conditions'] = data['Road_Surface_Conditions'].astype(str).fillna('unaccounted')\n",
    "data['Road_Type'] = data['Road_Type'].astype(str).fillna('unaccounted')\n",
    "data['Weather_Conditions'] = data['Weather_Conditions'].astype(str).fillna('unaccounted')\n",
    "data['Urban_or_Rural_Area'] = data['Urban_or_Rural_Area'].fillna(data['Urban_or_Rural_Area'].mode()[0])\n",
    "data['Year'] = data['Accident Date'].dt.year\n",
    "data['Month'] = data['Accident Date'].dt.month\n",
    "data['Day'] = data['Accident Date'].dt.day\n",
    "data['DayOfWeek'] = data['Accident Date'].dt.dayofweek"
   ]
  },
  {
   "cell_type": "code",
   "execution_count": 12,
   "id": "9efae8c6-7146-4c54-b1cc-824cbf6a68f6",
   "metadata": {},
   "outputs": [
    {
     "data": {
      "text/plain": [
       "Index                      0\n",
       "Accident_Severity          0\n",
       "Accident Date              0\n",
       "Latitude                   0\n",
       "Light_Conditions           0\n",
       "District Area              0\n",
       "Longitude                  0\n",
       "Number_of_Casualties       0\n",
       "Number_of_Vehicles         0\n",
       "Road_Surface_Conditions    0\n",
       "Road_Type                  0\n",
       "Urban_or_Rural_Area        0\n",
       "Weather_Conditions         0\n",
       "Vehicle_Type               0\n",
       "Year                       0\n",
       "Month                      0\n",
       "Day                        0\n",
       "DayOfWeek                  0\n",
       "dtype: int64"
      ]
     },
     "execution_count": 12,
     "metadata": {},
     "output_type": "execute_result"
    }
   ],
   "source": [
    "data.isnull().sum()"
   ]
  },
  {
   "cell_type": "markdown",
   "id": "452c8b7b-c572-45b0-8d2e-1be089383c1e",
   "metadata": {},
   "source": [
    "<hr>\n",
    "<h1>Question 1</h1>\n",
    "<h3>How Many Slight, Serious and Fatal Incident were observed?</h3>"
   ]
  },
  {
   "cell_type": "code",
   "execution_count": 13,
   "id": "a1a9a3d5-4919-4f99-b7af-5de72431c692",
   "metadata": {},
   "outputs": [
    {
     "data": {
      "text/plain": [
       "Accident_Severity\n",
       "Slight     563801\n",
       "Serious     88217\n",
       "Fatal        8661\n",
       "Name: count, dtype: int64"
      ]
     },
     "execution_count": 13,
     "metadata": {},
     "output_type": "execute_result"
    }
   ],
   "source": [
    "data['Accident_Severity'].value_counts()"
   ]
  },
  {
   "cell_type": "markdown",
   "id": "7aec1b70-48d4-4b8f-88e5-287eb78b49bb",
   "metadata": {},
   "source": [
    "<hr>\n",
    "<h1>Insight</h1>\n",
    "<h3>\n",
    "According to the dataset, there were 660,679 total accidents from 2019 to 2022. There are three categories of accidents: Slight, Serious, and Fatal. Slight shows the highest count, totaling 563,801 or 85.33%, Serious is 88,217 or 13.35%, and lastly Fatal consists of 8,661 or 1.31% of the total accidents.\n",
    "</h3>"
   ]
  },
  {
   "cell_type": "markdown",
   "id": "430c6945-7d5a-4c9a-9557-30a930ba2696",
   "metadata": {},
   "source": [
    "<hr>\n",
    "<h1>Question 2</h1>\n",
    "<h3>How Many Accident happened each year?</h3>"
   ]
  },
  {
   "cell_type": "code",
   "execution_count": 14,
   "id": "aec1ee50-f3a5-464b-b303-6aa9de8c7e4a",
   "metadata": {},
   "outputs": [
    {
     "data": {
      "text/plain": [
       "Year\n",
       "2019    182115\n",
       "2020    170591\n",
       "2021    163554\n",
       "2022    144419\n",
       "Name: count, dtype: int64"
      ]
     },
     "execution_count": 14,
     "metadata": {},
     "output_type": "execute_result"
    }
   ],
   "source": [
    "data['Year'].value_counts()"
   ]
  },
  {
   "cell_type": "markdown",
   "id": "7f97cfd1-3f83-4c20-9504-6f3d993e5fe3",
   "metadata": {},
   "source": [
    "<hr>\n",
    "<h1>Insight</h1>\n",
    "<h3>\n",
    "During 2019, there were 182,115 accidents; in 2020, there were 170,591; in 2021, there were 163,554; and lastly, in 2022, there were 144,419.\n",
    "</h3>"
   ]
  },
  {
   "cell_type": "markdown",
   "id": "78f89ee7-1f90-4a0d-8ea3-f09ace25194a",
   "metadata": {},
   "source": [
    "<hr>\n",
    "<h1>Question 3</h1>\n",
    "<h3>Which Year Shows the highest Total Accident?</h3>"
   ]
  },
  {
   "cell_type": "code",
   "execution_count": 15,
   "id": "346b65fd-01de-40ac-9c75-cea1030459bd",
   "metadata": {},
   "outputs": [],
   "source": [
    "accident_rate = data.groupby(['Year', 'Accident_Severity'])['Index'].count()"
   ]
  },
  {
   "cell_type": "code",
   "execution_count": 16,
   "id": "2beed1c5-ab62-455f-a4d4-ee3709f29389",
   "metadata": {},
   "outputs": [
    {
     "data": {
      "text/html": [
       "<div>\n",
       "<style scoped>\n",
       "    .dataframe tbody tr th:only-of-type {\n",
       "        vertical-align: middle;\n",
       "    }\n",
       "\n",
       "    .dataframe tbody tr th {\n",
       "        vertical-align: top;\n",
       "    }\n",
       "\n",
       "    .dataframe thead th {\n",
       "        text-align: right;\n",
       "    }\n",
       "</style>\n",
       "<table border=\"1\" class=\"dataframe\">\n",
       "  <thead>\n",
       "    <tr style=\"text-align: right;\">\n",
       "      <th>Accident_Severity</th>\n",
       "      <th>Fatal</th>\n",
       "      <th>Serious</th>\n",
       "      <th>Slight</th>\n",
       "    </tr>\n",
       "    <tr>\n",
       "      <th>Year</th>\n",
       "      <th></th>\n",
       "      <th></th>\n",
       "      <th></th>\n",
       "    </tr>\n",
       "  </thead>\n",
       "  <tbody>\n",
       "    <tr>\n",
       "      <th>2019</th>\n",
       "      <td>2714</td>\n",
       "      <td>24322</td>\n",
       "      <td>155079</td>\n",
       "    </tr>\n",
       "    <tr>\n",
       "      <th>2020</th>\n",
       "      <td>2341</td>\n",
       "      <td>23121</td>\n",
       "      <td>145129</td>\n",
       "    </tr>\n",
       "    <tr>\n",
       "      <th>2021</th>\n",
       "      <td>2057</td>\n",
       "      <td>21997</td>\n",
       "      <td>139500</td>\n",
       "    </tr>\n",
       "    <tr>\n",
       "      <th>2022</th>\n",
       "      <td>1549</td>\n",
       "      <td>18777</td>\n",
       "      <td>124093</td>\n",
       "    </tr>\n",
       "  </tbody>\n",
       "</table>\n",
       "</div>"
      ],
      "text/plain": [
       "Accident_Severity  Fatal  Serious  Slight\n",
       "Year                                     \n",
       "2019                2714    24322  155079\n",
       "2020                2341    23121  145129\n",
       "2021                2057    21997  139500\n",
       "2022                1549    18777  124093"
      ]
     },
     "execution_count": 16,
     "metadata": {},
     "output_type": "execute_result"
    }
   ],
   "source": [
    "accident_rate.unstack()"
   ]
  },
  {
   "cell_type": "markdown",
   "id": "24dc4191-e25e-45b9-84e1-2745d35487ba",
   "metadata": {},
   "source": [
    "<hr>\n",
    "<h1>Insight</h1>\n",
    "<h3>\n",
    "The data shows that year 2019 has the highest accident count\n",
    "</h3>"
   ]
  },
  {
   "cell_type": "markdown",
   "id": "493f3332-4143-40a8-93c0-1c085d9c8e39",
   "metadata": {},
   "source": [
    "<hr>\n",
    "<h1>Question 4</h1>\n",
    "<h3>What type of Vehicle shows the highest accident count?</h3>"
   ]
  },
  {
   "cell_type": "code",
   "execution_count": 17,
   "id": "3fcb9080-29c4-4d7a-83ef-78b065e5450e",
   "metadata": {},
   "outputs": [
    {
     "data": {
      "text/plain": [
       "Vehicle_Type\n",
       "Car                                      497992\n",
       "Van / Goods 3.5 tonnes mgw or under       34160\n",
       "Bus or coach (17 or more pass seats)      25878\n",
       "Motorcycle over 500cc                     25657\n",
       "Goods 7.5 tonnes mgw and over             17307\n",
       "Motorcycle 125cc and under                15269\n",
       "Taxi/Private hire car                     13294\n",
       "Motorcycle over 125cc and up to 500cc      7656\n",
       "Motorcycle 50cc and under                  7603\n",
       "Goods over 3.5t. and under 7.5t            6096\n",
       "Other vehicle                              5637\n",
       "Minibus (8 - 16 passenger seats)           1976\n",
       "Agricultural vehicle                       1947\n",
       "Pedal cycle                                 197\n",
       "Data missing or out of range                  6\n",
       "Ridden horse                                  4\n",
       "Name: count, dtype: int64"
      ]
     },
     "execution_count": 17,
     "metadata": {},
     "output_type": "execute_result"
    }
   ],
   "source": [
    "data['Vehicle_Type'].value_counts()"
   ]
  },
  {
   "cell_type": "markdown",
   "id": "c1074a66-3218-49ee-8a8c-151bf7a23802",
   "metadata": {},
   "source": [
    "<hr>\n",
    "<h1>Insight</h1>\n",
    "<h3>\n",
    "The data shows that the CAR has the highest accident count\n",
    "</h3>"
   ]
  },
  {
   "cell_type": "markdown",
   "id": "dc3e48bc-411f-440e-a96b-cfd58a7316b8",
   "metadata": {},
   "source": [
    "<hr>\n",
    "<h1>Question 5</h1>\n",
    "<h3>What District area has the Lowest Accident count?</h3>"
   ]
  },
  {
   "cell_type": "code",
   "execution_count": 18,
   "id": "99e0d737-c1b5-4ccc-8d27-d1c42e2d5e6d",
   "metadata": {},
   "outputs": [
    {
     "data": {
      "text/plain": [
       "District Area\n",
       "Birmingham            13491\n",
       "Leeds                  8898\n",
       "Manchester             6720\n",
       "Bradford               6212\n",
       "Sheffield              5710\n",
       "                      ...  \n",
       "Berwick-upon-Tweed      153\n",
       "Teesdale                142\n",
       "Shetland Islands        133\n",
       "Orkney Islands          117\n",
       "Clackmannanshire         91\n",
       "Name: count, Length: 422, dtype: int64"
      ]
     },
     "execution_count": 18,
     "metadata": {},
     "output_type": "execute_result"
    }
   ],
   "source": [
    "data['District Area'].value_counts()"
   ]
  },
  {
   "cell_type": "markdown",
   "id": "60e2c6b2-81b3-4b38-ac6f-d63e62c31547",
   "metadata": {},
   "source": [
    "<hr>\n",
    "<h1>Insight</h1>\n",
    "<h3>\n",
    "The data shows that the Clackmannanshire has the lowest accident count\n",
    "</h3>"
   ]
  },
  {
   "cell_type": "markdown",
   "id": "4c11e002-0a8a-4af8-b68d-0c1431734704",
   "metadata": {},
   "source": [
    "<hr>\n",
    "<h1>Question 6</h1>\n",
    "<h3>What is the distribution of accidents in Clackmannanshire across different light conditions? </h3>"
   ]
  },
  {
   "cell_type": "code",
   "execution_count": 19,
   "id": "493b8755-e8b1-4a92-b94f-3b444b5b7830",
   "metadata": {},
   "outputs": [],
   "source": [
    "clacks = data[data['District Area'] == 'Clackmannanshire']"
   ]
  },
  {
   "cell_type": "code",
   "execution_count": 20,
   "id": "f2febf86-ad96-4073-ad6b-acdd957dce6d",
   "metadata": {},
   "outputs": [
    {
     "data": {
      "text/plain": [
       "Light_Conditions\n",
       "Darkness - lighting unknown     0\n",
       "Darkness - lights lit          22\n",
       "Darkness - lights unlit         0\n",
       "Darkness - no lighting          1\n",
       "Daylight                       68\n",
       "dtype: int64"
      ]
     },
     "execution_count": 20,
     "metadata": {},
     "output_type": "execute_result"
    }
   ],
   "source": [
    "layt = clacks.groupby('Light_Conditions').size()\n",
    "layt"
   ]
  },
  {
   "cell_type": "markdown",
   "id": "5226f91d-9a3c-4b2d-a9f7-cd494961b784",
   "metadata": {},
   "source": [
    "<hr>\n",
    "<h1>Insight</h1>\n",
    "<h3>\n",
    "Most accidents in Clackmannanshire occurred during daylight (about 75%), while around 24% happened at night with street lighting and only 1% in unlit darkness.\n",
    "</h3>"
   ]
  },
  {
   "cell_type": "markdown",
   "id": "7760c756-f717-4952-9537-f1b6a59c69a0",
   "metadata": {},
   "source": [
    "<hr>\n",
    "<h1>Question 7</h1>\n",
    "<h3>During the Year 2019 what type of road condition has the most accident? </h3>"
   ]
  },
  {
   "cell_type": "code",
   "execution_count": 21,
   "id": "51fc327a-901f-4e52-9a55-cf28890a9168",
   "metadata": {},
   "outputs": [
    {
     "data": {
      "text/plain": [
       "Road_Surface_Conditions\n",
       "Dry                     125348\n",
       "Flood over 3cm. deep       312\n",
       "Frost or ice              2569\n",
       "Snow                       534\n",
       "Wet or damp              53153\n",
       "nan                        199\n",
       "dtype: int64"
      ]
     },
     "execution_count": 21,
     "metadata": {},
     "output_type": "execute_result"
    }
   ],
   "source": [
    "yer = data[data['Year'] == 2019]\n",
    "rod = yer.groupby('Road_Surface_Conditions').size()\n",
    "rod"
   ]
  },
  {
   "cell_type": "markdown",
   "id": "21cdaa36-421d-4b8e-9508-d92ae8ea5432",
   "metadata": {},
   "source": [
    "<hr>\n",
    "<h1>Insight</h1>\n",
    "<h3>\n",
    "In 2019, the majority of accidents occurred on dry road surfaces, indicating that most collisions happened under normal driving conditions rather than due to adverse weather.\n",
    "</h3>"
   ]
  },
  {
   "cell_type": "markdown",
   "id": "bbbfaaf8-cca5-4e92-9518-c7f5ee827603",
   "metadata": {},
   "source": [
    "<hr>\n",
    "<h1>Question 9</h1>\n",
    "<h3>What Road Type has the most accident? </h3>"
   ]
  },
  {
   "cell_type": "code",
   "execution_count": 22,
   "id": "194cf343-a465-4844-8c32-cf3f49c6a391",
   "metadata": {},
   "outputs": [
    {
     "data": {
      "text/plain": [
       "Road_Type\n",
       "Single carriageway    492143\n",
       "Dual carriageway       99424\n",
       "Roundabout             43992\n",
       "One way street         13559\n",
       "Slip road               7041\n",
       "nan                     4520\n",
       "Name: count, dtype: int64"
      ]
     },
     "execution_count": 22,
     "metadata": {},
     "output_type": "execute_result"
    }
   ],
   "source": [
    "data['Road_Type'].value_counts()"
   ]
  },
  {
   "cell_type": "markdown",
   "id": "30065b7d-abae-47c4-b6a9-20d5d69ffe3a",
   "metadata": {},
   "source": [
    "<hr>\n",
    "<h1>Insight</h1>\n",
    "<h3>\n",
    "Most accidents in the UK happened on single carriageways, followed by dual carriageways and roundabouts. This shows that roads with high daily use and traffic flow are where accidents are most common.\n",
    "</h3>"
   ]
  },
  {
   "cell_type": "markdown",
   "id": "8a12ec41-6588-472f-a89f-5db200196e17",
   "metadata": {},
   "source": [
    "<hr>\n",
    "<h1>Question 10</h1>\n",
    "<h3>In 2019,How many fatal accidents happened on a single carriageway? </h3>"
   ]
  },
  {
   "cell_type": "code",
   "execution_count": 23,
   "id": "1c848676-5a3f-4a97-8160-d6c9f716c43e",
   "metadata": {},
   "outputs": [
    {
     "data": {
      "text/plain": [
       "Accident_Severity\n",
       "Fatal        2714\n",
       "Serious     24322\n",
       "Slight     155079\n",
       "dtype: int64"
      ]
     },
     "execution_count": 23,
     "metadata": {},
     "output_type": "execute_result"
    }
   ],
   "source": [
    "yer = data[data['Year'] == 2019]\n",
    "sev = yer.groupby('Accident_Severity').size()\n",
    "sev"
   ]
  },
  {
   "cell_type": "markdown",
   "id": "5d61d7f7-acf2-49a6-899a-22085fb32244",
   "metadata": {},
   "source": [
    "<hr>\n",
    "<h1>Insight</h1>\n",
    "<h3>\n",
    "In 2019, there were 2,714 fatal accidents on single carriageways in the UK, showing that this road type carried the highest risk of deadly crashes.\n",
    "</h3>"
   ]
  },
  {
   "cell_type": "markdown",
   "id": "f99494f6-49ee-4561-9c48-ac7ededd99e1",
   "metadata": {},
   "source": [
    "<hr>\n",
    "<h1>Question 11</h1>\n",
    "<h3>How many casualties are most common per accident? </h3>"
   ]
  },
  {
   "cell_type": "code",
   "execution_count": 24,
   "id": "ca7c3b49-dca5-4785-b39d-49bf054722fe",
   "metadata": {},
   "outputs": [
    {
     "data": {
      "text/plain": [
       "np.int64(1)"
      ]
     },
     "execution_count": 24,
     "metadata": {},
     "output_type": "execute_result"
    }
   ],
   "source": [
    "data['Number_of_Casualties'].mode()[0]"
   ]
  },
  {
   "cell_type": "markdown",
   "id": "7d6ee5a6-73b2-4be7-80bb-eb1244aa3899",
   "metadata": {},
   "source": [
    "<hr>\n",
    "<h1>Insight</h1>\n",
    "<h3>\n",
    "Most accidents involve a single casualty, suggesting many are smaller-scale incidents.\n",
    "</h3>"
   ]
  },
  {
   "cell_type": "markdown",
   "id": "f5e50754-59ca-4029-b776-932075a7c357",
   "metadata": {},
   "source": [
    "<hr>\n",
    "<h1>Question 12</h1>\n",
    "<h3>Are accidents more common in urban or rural areas?</h3>"
   ]
  },
  {
   "cell_type": "code",
   "execution_count": 25,
   "id": "45d7c6d2-60de-4116-86f4-d8be2645cfc5",
   "metadata": {},
   "outputs": [
    {
     "data": {
      "text/plain": [
       "Urban_or_Rural_Area\n",
       "Urban          421678\n",
       "Rural          238990\n",
       "Unallocated        11\n",
       "Name: count, dtype: int64"
      ]
     },
     "execution_count": 25,
     "metadata": {},
     "output_type": "execute_result"
    }
   ],
   "source": [
    "data['Urban_or_Rural_Area'].value_counts()"
   ]
  },
  {
   "cell_type": "markdown",
   "id": "4b27b332-1c88-487b-81af-8e6a5a827f7a",
   "metadata": {},
   "source": [
    "<hr>\n",
    "<h1>Insight</h1>\n",
    "<h3>\n",
    "Most accidents occur in urban areas, likely due to higher population and vehicle density.\n",
    "</h3>"
   ]
  },
  {
   "cell_type": "markdown",
   "id": "af9246ef-080d-4875-b502-8eba2dc90cc7",
   "metadata": {},
   "source": [
    "<hr>\n",
    "<h1>Question 13</h1>\n",
    "<h3>What types of roads are present in each district?</h3>"
   ]
  },
  {
   "cell_type": "code",
   "execution_count": 26,
   "id": "0f29816e-e5e4-46a2-927a-3dac09928697",
   "metadata": {},
   "outputs": [],
   "source": [
    "# road = data.groupby(data['District Area'])['Road_Type'].value_counts()\n",
    "# pd.set_option(\"display.max_rows\", None)\n",
    "# road.unstack()"
   ]
  },
  {
   "cell_type": "markdown",
   "id": "8826a850-707a-4fcd-a845-7ec0305d647d",
   "metadata": {},
   "source": [
    "<hr>\n",
    "<h1>Insight</h1>\n",
    "<h3>\n",
    "Most accidents occur in urban areas, likely due to higher population and vehicle density.\n",
    "</h3>"
   ]
  },
  {
   "cell_type": "markdown",
   "id": "ba308e9d-df84-4ffc-a836-6aba3d7bba8e",
   "metadata": {},
   "source": [
    "<hr>\n",
    "<h1>Question 14</h1>\n",
    "<h3>What is the average accident per year?</h3>"
   ]
  },
  {
   "cell_type": "code",
   "execution_count": 27,
   "id": "1e26e4ac-ebf9-44f1-b521-38f4fdec25f7",
   "metadata": {},
   "outputs": [
    {
     "data": {
      "text/plain": [
       "np.float64(15176.25)"
      ]
     },
     "execution_count": 27,
     "metadata": {},
     "output_type": "execute_result"
    }
   ],
   "source": [
    "year1 = data[data['Year'] == 2019]['Month'].value_counts()\n",
    "year1.mean()"
   ]
  },
  {
   "cell_type": "code",
   "execution_count": 28,
   "id": "5b702e0d-8261-4c6c-8c93-cd2a4bc76c6d",
   "metadata": {},
   "outputs": [
    {
     "data": {
      "text/plain": [
       "np.float64(14215.916666666666)"
      ]
     },
     "execution_count": 28,
     "metadata": {},
     "output_type": "execute_result"
    }
   ],
   "source": [
    "year2 = data[data['Year'] == 2020]['Month'].value_counts()\n",
    "year2.mean()"
   ]
  },
  {
   "cell_type": "code",
   "execution_count": 29,
   "id": "eabc2f21-0e8d-4cbc-89fa-74aa91cbb636",
   "metadata": {},
   "outputs": [
    {
     "data": {
      "text/plain": [
       "np.float64(13629.5)"
      ]
     },
     "execution_count": 29,
     "metadata": {},
     "output_type": "execute_result"
    }
   ],
   "source": [
    "year3 = data[data['Year'] == 2021]['Month'].value_counts()\n",
    "year3.mean()"
   ]
  },
  {
   "cell_type": "code",
   "execution_count": 30,
   "id": "f204c9dd-ed8a-4116-aa95-3cb2ad01b75f",
   "metadata": {},
   "outputs": [
    {
     "data": {
      "text/plain": [
       "np.float64(12034.916666666666)"
      ]
     },
     "execution_count": 30,
     "metadata": {},
     "output_type": "execute_result"
    }
   ],
   "source": [
    "year4 = data[data['Year'] == 2022]['Month'].value_counts()\n",
    "year4.mean()"
   ]
  },
  {
   "cell_type": "markdown",
   "id": "fca126db-5efb-480b-a0ee-6691298794ac",
   "metadata": {},
   "source": [
    "<hr>\n",
    "<h1>Insight</h1>\n",
    "<h3>\n",
    "There is a consistent annual decrease in the average number of accidents, suggesting possible improvements in safety measures or because of pandemic \n",
    "</h3>"
   ]
  },
  {
   "cell_type": "markdown",
   "id": "637202d5-0e13-42be-9bb0-287847bbd4c4",
   "metadata": {},
   "source": [
    "<hr>\n",
    "<h1>Question 15</h1>\n",
    "<h3>What District Area has the highest Accident?</h3>"
   ]
  },
  {
   "cell_type": "code",
   "execution_count": 31,
   "id": "56857925-fe14-4e6e-aa25-2205d2c6db88",
   "metadata": {},
   "outputs": [
    {
     "data": {
      "text/plain": [
       "District Area\n",
       "Birmingham            13491\n",
       "Leeds                  8898\n",
       "Manchester             6720\n",
       "Bradford               6212\n",
       "Sheffield              5710\n",
       "                      ...  \n",
       "Berwick-upon-Tweed      153\n",
       "Teesdale                142\n",
       "Shetland Islands        133\n",
       "Orkney Islands          117\n",
       "Clackmannanshire         91\n",
       "Name: count, Length: 422, dtype: int64"
      ]
     },
     "execution_count": 31,
     "metadata": {},
     "output_type": "execute_result"
    }
   ],
   "source": [
    "data['District Area'].value_counts()"
   ]
  },
  {
   "cell_type": "markdown",
   "id": "48b7bd33-7545-4e1d-a9a3-8dd4496ff711",
   "metadata": {},
   "source": [
    "<hr>\n",
    "<h1>Insight</h1>\n",
    "<h3>\n",
    "The data shows that the Birmingham has the highest accident count with total of 13491 accidents throughout the year\n",
    "</h3>"
   ]
  },
  {
   "cell_type": "markdown",
   "id": "8d5015d8-c263-4462-a359-2914d0ccab07",
   "metadata": {},
   "source": [
    "<hr>\n",
    "<h1>Question 16</h1>\n",
    "<h3>In year 2019, What Month has the highest Accident Count?</h3>"
   ]
  },
  {
   "cell_type": "code",
   "execution_count": 32,
   "id": "1a0450e6-e5d5-46b8-9065-6935abc195c5",
   "metadata": {},
   "outputs": [
    {
     "data": {
      "text/plain": [
       "Month\n",
       "1     15355\n",
       "2     13253\n",
       "3     15049\n",
       "4     14125\n",
       "5     15833\n",
       "6     15527\n",
       "7     15862\n",
       "8     15043\n",
       "9     15271\n",
       "10    15526\n",
       "11    16559\n",
       "12    14708\n",
       "Name: count, dtype: int64"
      ]
     },
     "execution_count": 32,
     "metadata": {},
     "output_type": "execute_result"
    }
   ],
   "source": [
    "hay_month = data[data['Year'] == 2019].value_counts()\n",
    "mant = hay_month.groupby('Month').size()\n",
    "mant"
   ]
  },
  {
   "cell_type": "markdown",
   "id": "bd875672-6d55-468b-b2a9-b80fa1d4a58a",
   "metadata": {},
   "source": [
    "<hr>\n",
    "<h1>Insight</h1>\n",
    "<h3>\n",
    "The data shows that November has the highest count of accident with the total of 16 559.\n",
    "</h3>"
   ]
  },
  {
   "cell_type": "markdown",
   "id": "4fa1458f-7af9-4c9b-a28c-7a55f4e8fe33",
   "metadata": {},
   "source": [
    "<hr>\n",
    "<h1>Question 17</h1>\n",
    "<h3>How many Accidents that have 2 casualties?</h3>"
   ]
  },
  {
   "cell_type": "code",
   "execution_count": 33,
   "id": "8dc62d19-6d49-4d37-8711-5fa11cb36d9b",
   "metadata": {},
   "outputs": [
    {
     "data": {
      "text/plain": [
       "107971"
      ]
     },
     "execution_count": 33,
     "metadata": {},
     "output_type": "execute_result"
    }
   ],
   "source": [
    "add = data[data['Number_of_Casualties']== 2].shape[0]\n",
    "add"
   ]
  },
  {
   "cell_type": "markdown",
   "id": "5f156223-a9c9-486e-b493-46689377713d",
   "metadata": {},
   "source": [
    "<hr>\n",
    "<h1>Insight</h1>\n",
    "<h3>\n",
    "The data shows that there are 107971 accidents with 2 casualties showing that there are more casualties in UK road accidents.\n",
    "</h3>"
   ]
  },
  {
   "cell_type": "markdown",
   "id": "434a4085-1131-457b-a55a-9f115eafd55c",
   "metadata": {},
   "source": [
    "<hr>\n",
    "<h1>Question 18</h1>\n",
    "<h3>What is the highest number of vehicle count in a Accident</h3>"
   ]
  },
  {
   "cell_type": "code",
   "execution_count": 34,
   "id": "20ae5fff-3636-48a6-9d26-94a9c8c8daf1",
   "metadata": {},
   "outputs": [
    {
     "data": {
      "text/plain": [
       "Number_of_Vehicles\n",
       "2     391995\n",
       "1     200787\n",
       "3      52806\n",
       "4      11300\n",
       "5       2464\n",
       "6        758\n",
       "7        296\n",
       "8        147\n",
       "9         57\n",
       "10        27\n",
       "11        12\n",
       "14         9\n",
       "12         7\n",
       "13         6\n",
       "16         4\n",
       "28         1\n",
       "15         1\n",
       "32         1\n",
       "19         1\n",
       "Name: count, dtype: int64"
      ]
     },
     "execution_count": 34,
     "metadata": {},
     "output_type": "execute_result"
    }
   ],
   "source": [
    "data['Number_of_Vehicles'].value_counts()"
   ]
  },
  {
   "cell_type": "markdown",
   "id": "24256cef-aff5-44c4-953e-37787b855d46",
   "metadata": {},
   "source": [
    "<hr>\n",
    "<h1>Insight</h1>\n",
    "<h3>\n",
    "the data shows that there is accident where 19 vehicles is included\n",
    "</h3>"
   ]
  },
  {
   "cell_type": "markdown",
   "id": "0f3a64af-2785-4816-b82a-d34265689844",
   "metadata": {},
   "source": [
    "<hr>\n",
    "<h1>Question 19</h1>\n",
    "<h3>What type of car has the lowest counts of accident?</h3>"
   ]
  },
  {
   "cell_type": "code",
   "execution_count": 35,
   "id": "125070d2-0dde-4d8e-b81d-b1c49ac94a8a",
   "metadata": {},
   "outputs": [
    {
     "data": {
      "text/plain": [
       "Vehicle_Type\n",
       "Car                                      497992\n",
       "Van / Goods 3.5 tonnes mgw or under       34160\n",
       "Bus or coach (17 or more pass seats)      25878\n",
       "Motorcycle over 500cc                     25657\n",
       "Goods 7.5 tonnes mgw and over             17307\n",
       "Motorcycle 125cc and under                15269\n",
       "Taxi/Private hire car                     13294\n",
       "Motorcycle over 125cc and up to 500cc      7656\n",
       "Motorcycle 50cc and under                  7603\n",
       "Goods over 3.5t. and under 7.5t            6096\n",
       "Other vehicle                              5637\n",
       "Minibus (8 - 16 passenger seats)           1976\n",
       "Agricultural vehicle                       1947\n",
       "Pedal cycle                                 197\n",
       "Data missing or out of range                  6\n",
       "Ridden horse                                  4\n",
       "Name: count, dtype: int64"
      ]
     },
     "execution_count": 35,
     "metadata": {},
     "output_type": "execute_result"
    }
   ],
   "source": [
    "data['Vehicle_Type'].value_counts()"
   ]
  },
  {
   "cell_type": "markdown",
   "id": "44845a46-f118-4551-9bbc-6f94f4995312",
   "metadata": {},
   "source": [
    "<hr>\n",
    "<h1>Insight</h1>\n",
    "<h3>\n",
    "The data shows that the Ridden horse has the lowest accident count with the total of 4 accidents\n",
    "</h3>"
   ]
  },
  {
   "cell_type": "markdown",
   "id": "212cdd1d-7941-4021-a229-736d960ad9a8",
   "metadata": {},
   "source": [
    "<hr>\n",
    "<h1>Question 19</h1>\n",
    "<h3>Which weather condition has the fewest accidents?</h3>"
   ]
  },
  {
   "cell_type": "code",
   "execution_count": 36,
   "id": "e1909901-a564-4131-82c5-7cca17a385fb",
   "metadata": {},
   "outputs": [
    {
     "data": {
      "text/plain": [
       "Weather_Conditions\n",
       "Fine no high winds       520885\n",
       "Raining no high winds     79696\n",
       "Other                     17150\n",
       "nan                       14128\n",
       "Raining + high winds       9615\n",
       "Fine + high winds          8554\n",
       "Snowing no high winds      6238\n",
       "Fog or mist                3528\n",
       "Snowing + high winds        885\n",
       "Name: count, dtype: int64"
      ]
     },
     "execution_count": 36,
     "metadata": {},
     "output_type": "execute_result"
    }
   ],
   "source": [
    "data['Weather_Conditions'].value_counts()"
   ]
  },
  {
   "cell_type": "markdown",
   "id": "5a2b9ef4-29f5-4442-970e-f6701a20e341",
   "metadata": {},
   "source": [
    "<hr>\n",
    "<h1>Insight</h1>\n",
    "<h3>\n",
    "The data shows that the fewest number accidents happened during the Snowing + high winds weather condition\n",
    "</h3>"
   ]
  },
  {
   "cell_type": "markdown",
   "id": "cc50a500-12a7-4b87-be71-34567395f3dd",
   "metadata": {},
   "source": [
    "<hr>\n",
    "<h1>Question 20</h1>\n",
    "<h3>How many accidents happened on roundabouts?</h3>"
   ]
  },
  {
   "cell_type": "code",
   "execution_count": 37,
   "id": "e4ac7a90-91e6-4cb7-9a6d-1f90455e3a66",
   "metadata": {},
   "outputs": [
    {
     "data": {
      "text/plain": [
       "43992"
      ]
     },
     "execution_count": 37,
     "metadata": {},
     "output_type": "execute_result"
    }
   ],
   "source": [
    "data[data['Road_Type']== 'Roundabout'].shape[0]"
   ]
  },
  {
   "cell_type": "markdown",
   "id": "ccdab568-70d9-4e67-908e-16889645c0f4",
   "metadata": {},
   "source": [
    "<hr>\n",
    "<h1>Insight</h1>\n",
    "<h3>\n",
    "Although roundabouts reduce severe crashes, accidents still occur due to misjudgments and failure to yield.\n",
    "</h3>"
   ]
  },
  {
   "cell_type": "markdown",
   "id": "988e534b-db0e-4726-938a-bcb66fdfb575",
   "metadata": {},
   "source": [
    "<hr>\n",
    "<h1>Question 21</h1>\n",
    "<h3>Which weather condition has the highest count of accident?</h3>"
   ]
  },
  {
   "cell_type": "code",
   "execution_count": 39,
   "id": "b48d3f64-db89-4e45-88ab-785bdc54566a",
   "metadata": {},
   "outputs": [
    {
     "data": {
      "text/plain": [
       "Weather_Conditions\n",
       "Fine no high winds       520885\n",
       "Raining no high winds     79696\n",
       "Other                     17150\n",
       "nan                       14128\n",
       "Raining + high winds       9615\n",
       "Fine + high winds          8554\n",
       "Snowing no high winds      6238\n",
       "Fog or mist                3528\n",
       "Snowing + high winds        885\n",
       "Name: count, dtype: int64"
      ]
     },
     "execution_count": 39,
     "metadata": {},
     "output_type": "execute_result"
    }
   ],
   "source": [
    "data['Weather_Conditions'].value_counts()"
   ]
  },
  {
   "cell_type": "markdown",
   "id": "dc3bb33a-f7df-459d-92db-bf1c7f4e35b3",
   "metadata": {},
   "source": [
    "<hr>\n",
    "<h1>Insight</h1>\n",
    "<h3>\n",
    "The data shows that the Weather condition that has the highest count of acciden is a Fine no high winds weather condition. This insight shows that the accidents most likely happened beacuse of reckless driving.\n",
    "</h3>"
   ]
  },
  {
   "cell_type": "markdown",
   "id": "bc8fc267-3069-441c-8157-cb9cdd653d4e",
   "metadata": {},
   "source": [
    "<hr>\n",
    "<h1>Question 22</h1>\n",
    "<h3>How many slight accident during a Fine no high winds weather condition?</h3>"
   ]
  },
  {
   "cell_type": "code",
   "execution_count": null,
   "id": "cfbf68d0-330a-4c85-be1c-6a1a38a93a84",
   "metadata": {},
   "outputs": [],
   "source": [
    "sever = data[data['Accident_Severity'] == 'Slight'].count()\n",
    "weweder = data[data['Weather_Conditions']== 'Fine no high winds']\n",
    "weder = weweder.groupby(sever).value_counts()\n",
    "\n",
    "weder\n"
   ]
  },
  {
   "cell_type": "code",
   "execution_count": 54,
   "id": "e8e4170d-6253-4f8d-868e-d4723fbb6fca",
   "metadata": {},
   "outputs": [
    {
     "name": "stdout",
     "output_type": "stream",
     "text": [
      "441739\n"
     ]
    }
   ],
   "source": [
    "counts = data[(data['Accident_Severity'] == 'Slight')]['Weather_Conditions'].value_counts()\n",
    "print(counts['Fine no high winds'])\n"
   ]
  },
  {
   "cell_type": "markdown",
   "id": "260e5c69-3b54-4c24-a923-cec5484c1181",
   "metadata": {},
   "source": [
    "<hr>\n",
    "<h1>Insight</h1>\n",
    "<h3>\n",
    "There are slight 441 739 accident that happened on a Fine and no high winds weather condition \n",
    "</h3>"
   ]
  },
  {
   "cell_type": "markdown",
   "id": "2c3a363b-7466-4577-baf7-b876d21c78cc",
   "metadata": {},
   "source": [
    "<hr>\n",
    "<h1>Question 23</h1>\n",
    "<h3>Comparison of accident on Urban and Rural Areas</h3>"
   ]
  },
  {
   "cell_type": "code",
   "execution_count": 56,
   "id": "151171c1-1513-488c-9abc-aaabbf87930a",
   "metadata": {},
   "outputs": [
    {
     "data": {
      "text/plain": [
       "Urban_or_Rural_Area\n",
       "Urban          421678\n",
       "Rural          238990\n",
       "Unallocated        11\n",
       "Name: count, dtype: int64"
      ]
     },
     "execution_count": 56,
     "metadata": {},
     "output_type": "execute_result"
    }
   ],
   "source": [
    "urban_rural_counts = data['Urban_or_Rural_Area'].value_counts()\n",
    "urban_rural_counts"
   ]
  },
  {
   "cell_type": "markdown",
   "id": "231b55f3-f076-4a9b-b2c6-192d18536782",
   "metadata": {},
   "source": [
    "<hr>\n",
    "<h1>Insight</h1>\n",
    "<h3>\n",
    "Urban areas account for 63.85% of all accidents (421 678 incidents), while rural areas make up 36.17% (238 990 incidents), with less than 0.002% (11 incidents) unallocated, highlighting that urban areas experience significantly more accidents than rural regions. \n",
    "</h3>"
   ]
  },
  {
   "cell_type": "code",
   "execution_count": 64,
   "id": "a2a317c5-accb-406c-bff8-231a9e7c5d0e",
   "metadata": {},
   "outputs": [
    {
     "data": {
      "text/plain": [
       "5788"
      ]
     },
     "execution_count": 64,
     "metadata": {},
     "output_type": "execute_result"
    }
   ],
   "source": [
    "fatal_accidents = data[data['Accident_Severity'] == 'Fatal']\n",
    "fatal_dry_accidents = fatal_accidents[fatal_accidents['Road_Surface_Conditions'] == 'Dry']\n",
    "fatal_dry_accidents.shape[0]\n"
   ]
  },
  {
   "cell_type": "markdown",
   "id": "ac67af31-dd97-4204-aec6-15e99b702624",
   "metadata": {},
   "source": [
    "<hr>\n",
    "<h1>Question 25</h1>\n",
    "<h3>How does the number of fatal accidents vary by month?</h3>"
   ]
  },
  {
   "cell_type": "code",
   "execution_count": 65,
   "id": "0b9d5b8a-fbf3-4471-a55e-8f5556c4a746",
   "metadata": {},
   "outputs": [
    {
     "name": "stdout",
     "output_type": "stream",
     "text": [
      "Fatal Accidents by Month:\n",
      "Month\n",
      "1     740\n",
      "2     617\n",
      "3     681\n",
      "4     697\n",
      "5     760\n",
      "6     673\n",
      "7     753\n",
      "8     801\n",
      "9     723\n",
      "10    798\n",
      "11    747\n",
      "12    671\n",
      "Name: count, dtype: int64\n"
     ]
    }
   ],
   "source": [
    "fatal_accidents = data[data['Accident_Severity'] == 'Fatal']\n",
    "fatal_monthly_accidents = fatal_accidents['Month'].value_counts().sort_index()\n",
    "\n",
    "print(\"Fatal Accidents by Month:\")\n",
    "print(fatal_monthly_accidents)"
   ]
  },
  {
   "cell_type": "markdown",
   "id": "9ef346ee-893b-494d-9606-42f191900833",
   "metadata": {},
   "source": [
    "<hr>\n",
    "<h1>Insight</h1>\n",
    "<h3>\n",
    "Fatal accidents are highest from August to December, peaking in August (801) and October (798), and lowest in February (617). This suggests a seasonal trend, with more fatalities in the second half of the year, possibly due to increased travel or changing weather conditions.\n",
    "</h3>"
   ]
  },
  {
   "cell_type": "code",
   "execution_count": null,
   "id": "9dfeb66d-f931-40e2-9cfd-713b2bb8503b",
   "metadata": {},
   "outputs": [],
   "source": []
  }
 ],
 "metadata": {
  "kernelspec": {
   "display_name": "Python 3 (ipykernel)",
   "language": "python",
   "name": "python3"
  },
  "language_info": {
   "codemirror_mode": {
    "name": "ipython",
    "version": 3
   },
   "file_extension": ".py",
   "mimetype": "text/x-python",
   "name": "python",
   "nbconvert_exporter": "python",
   "pygments_lexer": "ipython3",
   "version": "3.13.7"
  }
 },
 "nbformat": 4,
 "nbformat_minor": 5
}
